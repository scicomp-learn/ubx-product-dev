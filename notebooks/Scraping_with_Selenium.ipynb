{
 "cells": [
  {
   "cell_type": "markdown",
   "metadata": {},
   "source": [
    "# Scraping Medium with Selenium\n",
    "\n",
    "While using Selenium, we need to install a webdriver based on what your browser (Chrome, Firefox, etc.) and selenium python package."
   ]
  },
  {
   "cell_type": "code",
   "execution_count": 1,
   "metadata": {},
   "outputs": [
    {
     "name": "stdout",
     "output_type": "stream",
     "text": [
      "/Users/syahrulhamdani/Documents/Projects/unbotxing\n"
     ]
    }
   ],
   "source": [
    "import os\n",
    "\n",
    "# change working directory\n",
    "os.chdir('/Users/syahrulhamdani/Documents/Projects/unbotxing/')\n",
    "print(os.getcwd())"
   ]
  },
  {
   "cell_type": "code",
   "execution_count": 2,
   "metadata": {},
   "outputs": [],
   "source": [
    "from selenium import webdriver\n",
    "from selenium.webdriver.chrome.options import Options\n",
    "from bs4 import BeautifulSoup\n",
    "import requests\n",
    "from requests.exceptions import RequestException\n",
    "from ubtools import get_html\n",
    "\n",
    "import time\n",
    "from contextlib import closing"
   ]
  },
  {
   "cell_type": "markdown",
   "metadata": {},
   "source": [
    "## Why is BeautifulSoup not enough?"
   ]
  },
  {
   "cell_type": "code",
   "execution_count": 8,
   "metadata": {},
   "outputs": [],
   "source": [
    "bl_review_url = 'https://www.bukalapak.com/reviews/komputer/laptop/1gkarrl-jual-laptop-asus-x441ua-i3-6006u-1tb-4gb'\n",
    "review_html, _ = get_html(bl_review_url)\n",
    "review_soup = BeautifulSoup(review_html, 'lxml')"
   ]
  },
  {
   "cell_type": "code",
   "execution_count": 21,
   "metadata": {
    "scrolled": true
   },
   "outputs": [
    {
     "data": {
      "text/plain": [
       "<div class=\"c-panel__body\">\n",
       "<div class=\"u-pad-left--7 u-pad-right--7 u-pad-top--4\">\n",
       "<div class=\"o-flag c-rating-presentation c-rating-presentation--custom\">\n",
       "<div class=\"o-flag__body c-rating-presentation__head u-pad-right--4 u-border--right\">\n",
       "<div class=\"u-txt--hero u-txt--bold\">\n",
       "4.9\n",
       "</div>\n",
       "<div class=\"c-rating u-mrgn-bottom--1 u-mrgn-top--2\" title=\"4.9\">\n",
       "<div class=\"c-rating__bg\"><span class=\"c-rating__unit c-icon c-icon--star c-icon--large\"></span><span class=\"c-rating__unit c-icon c-icon--star c-icon--large\"></span><span class=\"c-rating__unit c-icon c-icon--star c-icon--large\"></span><span class=\"c-rating__unit c-icon c-icon--star c-icon--large\"></span><span class=\"c-rating__unit c-icon c-icon--star c-icon--large\"></span></div>\n",
       "<div class=\"c-rating__fg\" style=\"width: 98.0%;\"><span class=\"c-rating__unit c-icon c-icon--star c-icon--large\"></span><span class=\"c-rating__unit c-icon c-icon--star c-icon--large\"></span><span class=\"c-rating__unit c-icon c-icon--star c-icon--large\"></span><span class=\"c-rating__unit c-icon c-icon--star c-icon--large\"></span><span class=\"c-rating__unit c-icon c-icon--star c-icon--large\"></span></div>\n",
       "</div>\n",
       "<div>\n",
       "<span>33</span>\n",
       "ulasan\n",
       "</div>\n",
       "</div>\n",
       "<div class=\"o-flag__body c-rating-presentation__body\">\n",
       "<div class=\"o-flag c-rating-presentation\">\n",
       "<div class=\"o-flag__body c-rating-presentation__icon\">\n",
       "<span class=\"u-fg--ash\">5</span>\n",
       "<span class=\"c-icon c-icon--medium c-icon--star u-fg--ash u-txt--fair\"></span>\n",
       "</div>\n",
       "<div class=\"o-flag__body c-rating-presentation__bar\">\n",
       "<div class=\"c-progress c-progress--yellow\">\n",
       "<div class=\"c-progress__bar\" style=\"width: 91.0%\" title=\"30\"></div>\n",
       "</div>\n",
       "</div>\n",
       "<div class=\"o-flag__body c-rating-presentation__icon\">\n",
       "<span class=\"u-fg--ash u-inline-block u-mrgn-left--3\">30</span>\n",
       "</div>\n",
       "</div>\n",
       "<div class=\"o-flag c-rating-presentation\">\n",
       "<div class=\"o-flag__body c-rating-presentation__icon\">\n",
       "<span class=\"u-fg--ash\">4</span>\n",
       "<span class=\"c-icon c-icon--medium c-icon--star u-fg--ash u-txt--fair\"></span>\n",
       "</div>\n",
       "<div class=\"o-flag__body c-rating-presentation__bar\">\n",
       "<div class=\"c-progress c-progress--yellow\">\n",
       "<div class=\"c-progress__bar\" style=\"width: 9.0%\" title=\"3\"></div>\n",
       "</div>\n",
       "</div>\n",
       "<div class=\"o-flag__body c-rating-presentation__icon\">\n",
       "<span class=\"u-fg--ash u-inline-block u-mrgn-left--3\">3</span>\n",
       "</div>\n",
       "</div>\n",
       "<div class=\"o-flag c-rating-presentation\">\n",
       "<div class=\"o-flag__body c-rating-presentation__icon\">\n",
       "<span class=\"u-fg--ash\">3</span>\n",
       "<span class=\"c-icon c-icon--medium c-icon--star u-fg--ash u-txt--fair\"></span>\n",
       "</div>\n",
       "<div class=\"o-flag__body c-rating-presentation__bar\">\n",
       "<div class=\"c-progress c-progress--yellow\">\n",
       "<div class=\"c-progress__bar\" style=\"width: 0.0%\" title=\"0\"></div>\n",
       "</div>\n",
       "</div>\n",
       "<div class=\"o-flag__body c-rating-presentation__icon\">\n",
       "<span class=\"u-fg--ash u-inline-block u-mrgn-left--3\">0</span>\n",
       "</div>\n",
       "</div>\n",
       "<div class=\"o-flag c-rating-presentation\">\n",
       "<div class=\"o-flag__body c-rating-presentation__icon\">\n",
       "<span class=\"u-fg--ash\">2</span>\n",
       "<span class=\"c-icon c-icon--medium c-icon--star u-fg--ash u-txt--fair\"></span>\n",
       "</div>\n",
       "<div class=\"o-flag__body c-rating-presentation__bar\">\n",
       "<div class=\"c-progress c-progress--yellow\">\n",
       "<div class=\"c-progress__bar\" style=\"width: 0.0%\" title=\"0\"></div>\n",
       "</div>\n",
       "</div>\n",
       "<div class=\"o-flag__body c-rating-presentation__icon\">\n",
       "<span class=\"u-fg--ash u-inline-block u-mrgn-left--3\">0</span>\n",
       "</div>\n",
       "</div>\n",
       "<div class=\"o-flag c-rating-presentation\">\n",
       "<div class=\"o-flag__body c-rating-presentation__icon\">\n",
       "<span class=\"u-fg--ash\">1</span>\n",
       "<span class=\"c-icon c-icon--medium c-icon--star u-fg--ash u-txt--fair\"></span>\n",
       "</div>\n",
       "<div class=\"o-flag__body c-rating-presentation__bar\">\n",
       "<div class=\"c-progress c-progress--yellow\">\n",
       "<div class=\"c-progress__bar\" style=\"width: 0.0%\" title=\"0\"></div>\n",
       "</div>\n",
       "</div>\n",
       "<div class=\"o-flag__body c-rating-presentation__icon\">\n",
       "<span class=\"u-fg--ash u-inline-block u-mrgn-left--3\">0</span>\n",
       "</div>\n",
       "</div>\n",
       "</div>\n",
       "</div>\n",
       "</div>\n",
       "<hr class=\"u-hr u-mrgn-bottom--0 u-mrgn-top--6\"/>\n",
       "<div data-action-urls='{\"voteUp\":\"/product_reviews/vote/%7B%7D/up\",\"voteDown\":\"/product_reviews/vote/%7B%7D/down\",\"login\":\"https://www.bukalapak.com/login\",\"reviewPermalink\":\"/review/komputer/laptop/1gkarrl-jual-laptop-asus-x441ua-i3-6006u-1tb-4gb/%7B%7D\"}' data-category-id=\"3\" data-current-user-id=\"\" data-product-id=\"1gkarrl\" id=\"v__product-reviews\"></div>\n",
       "</div>"
      ]
     },
     "execution_count": 21,
     "metadata": {},
     "output_type": "execute_result"
    }
   ],
   "source": [
    "review_body = review_soup.find('div', attrs={'class': 'c-panel__body'})\n",
    "review_body"
   ]
  },
  {
   "cell_type": "markdown",
   "metadata": {},
   "source": [
    "From above, we can't find any html element **div** with attribute class `contain-user-reviews` that contains all user reviews. Hence, BeautifulSoup has limitation here in accessing data that is bounded by some javascripts. In order to access the data we want, we then need a library that can \"manipulate\" javascript or act like us to navigate through the web page and get those data. **Selenium** come to the rescue."
   ]
  },
  {
   "cell_type": "code",
   "execution_count": 69,
   "metadata": {},
   "outputs": [],
   "source": [
    "url_medium = 'https://towardsdatascience.com/data-science/home'\n",
    "driver = webdriver.Chrome('../chromedriver')\n",
    "driver.get(url_medium)"
   ]
  },
  {
   "cell_type": "code",
   "execution_count": 80,
   "metadata": {},
   "outputs": [],
   "source": [
    "driver.execute_script('window.scrollTo(0, document.body.scrollHeight)')"
   ]
  },
  {
   "cell_type": "code",
   "execution_count": 84,
   "metadata": {},
   "outputs": [],
   "source": [
    "SCROLL_PAUSE = 1.5\n",
    "\n",
    "last_height = driver.execute_script(\"return document.body.scrollHeight\")\n",
    "\n",
    "while True:\n",
    "    driver.execute_script('window.scrollTo(0, document.body.scrollHeight);')\n",
    "    \n",
    "    time.sleep(SCROLL_PAUSE)\n",
    "    \n",
    "    new_height = driver.execute_script('return document.body.scrollHeight')\n",
    "    if new_height == last_height:\n",
    "        break\n",
    "    last_height = new_height"
   ]
  },
  {
   "cell_type": "code",
   "execution_count": 85,
   "metadata": {},
   "outputs": [],
   "source": [
    "driver.close()"
   ]
  },
  {
   "cell_type": "markdown",
   "metadata": {},
   "source": [
    "## Scraping Bukalapak with Selenium"
   ]
  },
  {
   "cell_type": "code",
   "execution_count": 86,
   "metadata": {},
   "outputs": [],
   "source": [
    "# define the base URL\n",
    "URL = \"https://www.bukalapak.com/p/handphone/hp-smartphone/mgx5ns-jual-oppo-f9?from=list-product&product_owner=normal_seller&search%5Bkeywords%5D=oppo%20f11\""
   ]
  },
  {
   "cell_type": "code",
   "execution_count": 98,
   "metadata": {},
   "outputs": [],
   "source": [
    "browser = webdriver.Chrome('../chromedriver')\n",
    "browser.get(URL)"
   ]
  },
  {
   "cell_type": "code",
   "execution_count": 99,
   "metadata": {
    "scrolled": false
   },
   "outputs": [],
   "source": [
    "browser.find_element_by_id('product-detail-product-review').click()\n",
    "link = browser.find_element_by_id('loadmore_link')"
   ]
  },
  {
   "cell_type": "code",
   "execution_count": 100,
   "metadata": {},
   "outputs": [],
   "source": [
    "href = link.get_attribute('href')"
   ]
  },
  {
   "cell_type": "code",
   "execution_count": 101,
   "metadata": {},
   "outputs": [],
   "source": [
    "browser.close()"
   ]
  },
  {
   "cell_type": "code",
   "execution_count": 96,
   "metadata": {},
   "outputs": [],
   "source": [
    "def get_html(url, param=None, time_out=None):\n",
    "    \"\"\"Attempts to get the html at `url` via HTTP GET Requests.\n",
    "    \n",
    "    Parameters\n",
    "    ----------\n",
    "    url : str\n",
    "        URL or API URI\n",
    "    param : dict\n",
    "        key-value pair to be attached to url\n",
    "    timeout : float or int or tuple of both\n",
    "        time limit to establish a connection. If a tuple (2,5) is given, then\n",
    "        2 is time limit to estalbish a connection and 5 is time limit to wait\n",
    "        on a response.\n",
    "    \n",
    "    Returns\n",
    "    -------\n",
    "    str\n",
    "        Raw HTML\n",
    "    str\n",
    "        Complete URL\n",
    "    \"\"\"\n",
    "    try:\n",
    "        with closing(requests.get(url, params=param, timeout=time_out, stream=True)) as response:\n",
    "            response.raise_for_status()\n",
    "            if is_good_response(response):\n",
    "                return response.text, response.url\n",
    "            else:\n",
    "                return None\n",
    "    except RequestException as request_error:\n",
    "        error_log(url, params=param, msg=request_error)\n",
    "        return None\n",
    "\n",
    "\n",
    "def is_good_response(response):\n",
    "    \"\"\"Evaluate response.\n",
    "    \n",
    "    If response seems to be HTML with status 200, return True.\n",
    "    else, return False\n",
    "    \n",
    "    Parameters\n",
    "    ----------\n",
    "    response\n",
    "        Requests response\n",
    "    \n",
    "    Returns\n",
    "    -------\n",
    "    bool\n",
    "        Response quality\n",
    "    \"\"\"\n",
    "    content_type = response.headers['Content-Type'].lower()\n",
    "    return (\n",
    "        response.status_code == 200\n",
    "        and content_type is not None\n",
    "        and content_type.find('html') > -1\n",
    "    )\n",
    "\n",
    "\n",
    "def error_log(url, params=None, msg=None):\n",
    "    \"\"\"Print error message and log them if exist.\n",
    "    \n",
    "    Parameters\n",
    "    ----------\n",
    "    url : str\n",
    "        URL string\n",
    "    params : dict\n",
    "        key-value pair attached to url\n",
    "    msg : str\n",
    "        Error message based on `RequestException`\n",
    "    \"\"\"\n",
    "    print(\n",
    "        f'Error occured during request to {url}',\n",
    "        f'with paremeter {params}',\n",
    "        f'Error Message {msg}',\n",
    "        sep='\\n'\n",
    "    )\n",
    "\n",
    "def bl_make_soup(bl_url, bl_param=None):\n",
    "    \"\"\"Get HTML string using `requests.get()` method.\n",
    "    \n",
    "    Parameters\n",
    "    ----------\n",
    "    url: str\n",
    "        URL target to requests a HTTP GET method\n",
    "    param: dict\n",
    "        `param` to pass into `requests.get()` method\n",
    "        \n",
    "    Returns\n",
    "    -------\n",
    "    bs4.BeautifulSoup\n",
    "        BeautifulSoup object\n",
    "    \"\"\"\n",
    "    html, url = get_html(url=bl_url, param=bl_param)\n",
    "    \n",
    "    return BeautifulSoup(html), url"
   ]
  },
  {
   "cell_type": "code",
   "execution_count": 145,
   "metadata": {},
   "outputs": [],
   "source": [
    "chrome_opt = Options()\n",
    "chrome_opt.add_argument('--headless')\n",
    "driver = webdriver.Chrome(options=chrome_opt, executable_path='../chromedriver')\n",
    "driver.get(href)"
   ]
  },
  {
   "cell_type": "code",
   "execution_count": 146,
   "metadata": {},
   "outputs": [],
   "source": [
    "driver.execute_script('window.scrollTo(0, document.body.scrollHeight)')\n",
    "pagination = driver.find_element_by_class_name('c-pagination')"
   ]
  },
  {
   "cell_type": "code",
   "execution_count": 147,
   "metadata": {},
   "outputs": [
    {
     "data": {
      "text/plain": [
       "[<selenium.webdriver.remote.webelement.WebElement (session=\"169699dc6876f45166c33e80d0ad565e\", element=\"0.23720821702976913-2\")>,\n",
       " <selenium.webdriver.remote.webelement.WebElement (session=\"169699dc6876f45166c33e80d0ad565e\", element=\"0.23720821702976913-3\")>,\n",
       " <selenium.webdriver.remote.webelement.WebElement (session=\"169699dc6876f45166c33e80d0ad565e\", element=\"0.23720821702976913-4\")>,\n",
       " <selenium.webdriver.remote.webelement.WebElement (session=\"169699dc6876f45166c33e80d0ad565e\", element=\"0.23720821702976913-5\")>,\n",
       " <selenium.webdriver.remote.webelement.WebElement (session=\"169699dc6876f45166c33e80d0ad565e\", element=\"0.23720821702976913-6\")>,\n",
       " <selenium.webdriver.remote.webelement.WebElement (session=\"169699dc6876f45166c33e80d0ad565e\", element=\"0.23720821702976913-7\")>]"
      ]
     },
     "execution_count": 147,
     "metadata": {},
     "output_type": "execute_result"
    }
   ],
   "source": [
    "pagination.find_elements_by_tag_name('li')"
   ]
  },
  {
   "cell_type": "code",
   "execution_count": 148,
   "metadata": {},
   "outputs": [
    {
     "data": {
      "text/plain": [
       "[<selenium.webdriver.remote.webelement.WebElement (session=\"169699dc6876f45166c33e80d0ad565e\", element=\"0.23720821702976913-8\")>,\n",
       " <selenium.webdriver.remote.webelement.WebElement (session=\"169699dc6876f45166c33e80d0ad565e\", element=\"0.23720821702976913-9\")>,\n",
       " <selenium.webdriver.remote.webelement.WebElement (session=\"169699dc6876f45166c33e80d0ad565e\", element=\"0.23720821702976913-10\")>,\n",
       " <selenium.webdriver.remote.webelement.WebElement (session=\"169699dc6876f45166c33e80d0ad565e\", element=\"0.23720821702976913-11\")>]"
      ]
     },
     "execution_count": 148,
     "metadata": {},
     "output_type": "execute_result"
    }
   ],
   "source": [
    "pagination.find_elements_by_class_name('c-pagination__link')"
   ]
  },
  {
   "cell_type": "code",
   "execution_count": 154,
   "metadata": {},
   "outputs": [
    {
     "name": "stdout",
     "output_type": "stream",
     "text": [
      "Wah, Puas Banget!\n",
      "Original dan Segel Masih utuh.. Mantabb\n",
      "\n",
      "\n"
     ]
    }
   ],
   "source": [
    "review_item = driver.find_elements_by_class_name('contain-user-review-item')\n",
    "for p in review_item[0].find_elements_by_tag_name('p'):\n",
    "    print(p.text)"
   ]
  },
  {
   "cell_type": "code",
   "execution_count": 161,
   "metadata": {},
   "outputs": [
    {
     "ename": "WebDriverException",
     "evalue": "Message: unknown error: Element <a class=\"c-pagination__link\">...</a> is not clickable at point (676, 15). Other element would receive the click: <li class=\"c-nav-menu__item c-dropdown c-dropdown--medium c-dropdown--click-trigger\">...</li>\n  (Session info: headless chrome=73.0.3683.103)\n  (Driver info: chromedriver=73.0.3683.68 (47787ec04b6e38e22703e856e101e840b65afe72),platform=Mac OS X 10.14.3 x86_64)\n",
     "output_type": "error",
     "traceback": [
      "\u001b[0;31m---------------------------------------------------------------------------\u001b[0m",
      "\u001b[0;31mWebDriverException\u001b[0m                        Traceback (most recent call last)",
      "\u001b[0;32m<ipython-input-161-b60483021d54>\u001b[0m in \u001b[0;36m<module>\u001b[0;34m\u001b[0m\n\u001b[0;32m----> 1\u001b[0;31m \u001b[0mpagination\u001b[0m\u001b[0;34m.\u001b[0m\u001b[0mfind_elements_by_tag_name\u001b[0m\u001b[0;34m(\u001b[0m\u001b[0;34m'a'\u001b[0m\u001b[0;34m)\u001b[0m\u001b[0;34m[\u001b[0m\u001b[0;34m-\u001b[0m\u001b[0;36m2\u001b[0m\u001b[0;34m]\u001b[0m\u001b[0;34m.\u001b[0m\u001b[0mclick\u001b[0m\u001b[0;34m(\u001b[0m\u001b[0;34m)\u001b[0m\u001b[0;34m\u001b[0m\u001b[0;34m\u001b[0m\u001b[0m\n\u001b[0m",
      "\u001b[0;32m~/anaconda3/envs/unbotxing/lib/python3.7/site-packages/selenium/webdriver/remote/webelement.py\u001b[0m in \u001b[0;36mclick\u001b[0;34m(self)\u001b[0m\n\u001b[1;32m     78\u001b[0m     \u001b[0;32mdef\u001b[0m \u001b[0mclick\u001b[0m\u001b[0;34m(\u001b[0m\u001b[0mself\u001b[0m\u001b[0;34m)\u001b[0m\u001b[0;34m:\u001b[0m\u001b[0;34m\u001b[0m\u001b[0;34m\u001b[0m\u001b[0m\n\u001b[1;32m     79\u001b[0m         \u001b[0;34m\"\"\"Clicks the element.\"\"\"\u001b[0m\u001b[0;34m\u001b[0m\u001b[0;34m\u001b[0m\u001b[0m\n\u001b[0;32m---> 80\u001b[0;31m         \u001b[0mself\u001b[0m\u001b[0;34m.\u001b[0m\u001b[0m_execute\u001b[0m\u001b[0;34m(\u001b[0m\u001b[0mCommand\u001b[0m\u001b[0;34m.\u001b[0m\u001b[0mCLICK_ELEMENT\u001b[0m\u001b[0;34m)\u001b[0m\u001b[0;34m\u001b[0m\u001b[0;34m\u001b[0m\u001b[0m\n\u001b[0m\u001b[1;32m     81\u001b[0m \u001b[0;34m\u001b[0m\u001b[0m\n\u001b[1;32m     82\u001b[0m     \u001b[0;32mdef\u001b[0m \u001b[0msubmit\u001b[0m\u001b[0;34m(\u001b[0m\u001b[0mself\u001b[0m\u001b[0;34m)\u001b[0m\u001b[0;34m:\u001b[0m\u001b[0;34m\u001b[0m\u001b[0;34m\u001b[0m\u001b[0m\n",
      "\u001b[0;32m~/anaconda3/envs/unbotxing/lib/python3.7/site-packages/selenium/webdriver/remote/webelement.py\u001b[0m in \u001b[0;36m_execute\u001b[0;34m(self, command, params)\u001b[0m\n\u001b[1;32m    631\u001b[0m             \u001b[0mparams\u001b[0m \u001b[0;34m=\u001b[0m \u001b[0;34m{\u001b[0m\u001b[0;34m}\u001b[0m\u001b[0;34m\u001b[0m\u001b[0;34m\u001b[0m\u001b[0m\n\u001b[1;32m    632\u001b[0m         \u001b[0mparams\u001b[0m\u001b[0;34m[\u001b[0m\u001b[0;34m'id'\u001b[0m\u001b[0;34m]\u001b[0m \u001b[0;34m=\u001b[0m \u001b[0mself\u001b[0m\u001b[0;34m.\u001b[0m\u001b[0m_id\u001b[0m\u001b[0;34m\u001b[0m\u001b[0;34m\u001b[0m\u001b[0m\n\u001b[0;32m--> 633\u001b[0;31m         \u001b[0;32mreturn\u001b[0m \u001b[0mself\u001b[0m\u001b[0;34m.\u001b[0m\u001b[0m_parent\u001b[0m\u001b[0;34m.\u001b[0m\u001b[0mexecute\u001b[0m\u001b[0;34m(\u001b[0m\u001b[0mcommand\u001b[0m\u001b[0;34m,\u001b[0m \u001b[0mparams\u001b[0m\u001b[0;34m)\u001b[0m\u001b[0;34m\u001b[0m\u001b[0;34m\u001b[0m\u001b[0m\n\u001b[0m\u001b[1;32m    634\u001b[0m \u001b[0;34m\u001b[0m\u001b[0m\n\u001b[1;32m    635\u001b[0m     \u001b[0;32mdef\u001b[0m \u001b[0mfind_element\u001b[0m\u001b[0;34m(\u001b[0m\u001b[0mself\u001b[0m\u001b[0;34m,\u001b[0m \u001b[0mby\u001b[0m\u001b[0;34m=\u001b[0m\u001b[0mBy\u001b[0m\u001b[0;34m.\u001b[0m\u001b[0mID\u001b[0m\u001b[0;34m,\u001b[0m \u001b[0mvalue\u001b[0m\u001b[0;34m=\u001b[0m\u001b[0;32mNone\u001b[0m\u001b[0;34m)\u001b[0m\u001b[0;34m:\u001b[0m\u001b[0;34m\u001b[0m\u001b[0;34m\u001b[0m\u001b[0m\n",
      "\u001b[0;32m~/anaconda3/envs/unbotxing/lib/python3.7/site-packages/selenium/webdriver/remote/webdriver.py\u001b[0m in \u001b[0;36mexecute\u001b[0;34m(self, driver_command, params)\u001b[0m\n\u001b[1;32m    319\u001b[0m         \u001b[0mresponse\u001b[0m \u001b[0;34m=\u001b[0m \u001b[0mself\u001b[0m\u001b[0;34m.\u001b[0m\u001b[0mcommand_executor\u001b[0m\u001b[0;34m.\u001b[0m\u001b[0mexecute\u001b[0m\u001b[0;34m(\u001b[0m\u001b[0mdriver_command\u001b[0m\u001b[0;34m,\u001b[0m \u001b[0mparams\u001b[0m\u001b[0;34m)\u001b[0m\u001b[0;34m\u001b[0m\u001b[0;34m\u001b[0m\u001b[0m\n\u001b[1;32m    320\u001b[0m         \u001b[0;32mif\u001b[0m \u001b[0mresponse\u001b[0m\u001b[0;34m:\u001b[0m\u001b[0;34m\u001b[0m\u001b[0;34m\u001b[0m\u001b[0m\n\u001b[0;32m--> 321\u001b[0;31m             \u001b[0mself\u001b[0m\u001b[0;34m.\u001b[0m\u001b[0merror_handler\u001b[0m\u001b[0;34m.\u001b[0m\u001b[0mcheck_response\u001b[0m\u001b[0;34m(\u001b[0m\u001b[0mresponse\u001b[0m\u001b[0;34m)\u001b[0m\u001b[0;34m\u001b[0m\u001b[0;34m\u001b[0m\u001b[0m\n\u001b[0m\u001b[1;32m    322\u001b[0m             response['value'] = self._unwrap_value(\n\u001b[1;32m    323\u001b[0m                 response.get('value', None))\n",
      "\u001b[0;32m~/anaconda3/envs/unbotxing/lib/python3.7/site-packages/selenium/webdriver/remote/errorhandler.py\u001b[0m in \u001b[0;36mcheck_response\u001b[0;34m(self, response)\u001b[0m\n\u001b[1;32m    240\u001b[0m                 \u001b[0malert_text\u001b[0m \u001b[0;34m=\u001b[0m \u001b[0mvalue\u001b[0m\u001b[0;34m[\u001b[0m\u001b[0;34m'alert'\u001b[0m\u001b[0;34m]\u001b[0m\u001b[0;34m.\u001b[0m\u001b[0mget\u001b[0m\u001b[0;34m(\u001b[0m\u001b[0;34m'text'\u001b[0m\u001b[0;34m)\u001b[0m\u001b[0;34m\u001b[0m\u001b[0;34m\u001b[0m\u001b[0m\n\u001b[1;32m    241\u001b[0m             \u001b[0;32mraise\u001b[0m \u001b[0mexception_class\u001b[0m\u001b[0;34m(\u001b[0m\u001b[0mmessage\u001b[0m\u001b[0;34m,\u001b[0m \u001b[0mscreen\u001b[0m\u001b[0;34m,\u001b[0m \u001b[0mstacktrace\u001b[0m\u001b[0;34m,\u001b[0m \u001b[0malert_text\u001b[0m\u001b[0;34m)\u001b[0m\u001b[0;34m\u001b[0m\u001b[0;34m\u001b[0m\u001b[0m\n\u001b[0;32m--> 242\u001b[0;31m         \u001b[0;32mraise\u001b[0m \u001b[0mexception_class\u001b[0m\u001b[0;34m(\u001b[0m\u001b[0mmessage\u001b[0m\u001b[0;34m,\u001b[0m \u001b[0mscreen\u001b[0m\u001b[0;34m,\u001b[0m \u001b[0mstacktrace\u001b[0m\u001b[0;34m)\u001b[0m\u001b[0;34m\u001b[0m\u001b[0;34m\u001b[0m\u001b[0m\n\u001b[0m\u001b[1;32m    243\u001b[0m \u001b[0;34m\u001b[0m\u001b[0m\n\u001b[1;32m    244\u001b[0m     \u001b[0;32mdef\u001b[0m \u001b[0m_value_or_default\u001b[0m\u001b[0;34m(\u001b[0m\u001b[0mself\u001b[0m\u001b[0;34m,\u001b[0m \u001b[0mobj\u001b[0m\u001b[0;34m,\u001b[0m \u001b[0mkey\u001b[0m\u001b[0;34m,\u001b[0m \u001b[0mdefault\u001b[0m\u001b[0;34m)\u001b[0m\u001b[0;34m:\u001b[0m\u001b[0;34m\u001b[0m\u001b[0;34m\u001b[0m\u001b[0m\n",
      "\u001b[0;31mWebDriverException\u001b[0m: Message: unknown error: Element <a class=\"c-pagination__link\">...</a> is not clickable at point (676, 15). Other element would receive the click: <li class=\"c-nav-menu__item c-dropdown c-dropdown--medium c-dropdown--click-trigger\">...</li>\n  (Session info: headless chrome=73.0.3683.103)\n  (Driver info: chromedriver=73.0.3683.68 (47787ec04b6e38e22703e856e101e840b65afe72),platform=Mac OS X 10.14.3 x86_64)\n"
     ]
    }
   ],
   "source": [
    "pagination.find_elements_by_tag_name('a')[-2].click()"
   ]
  },
  {
   "cell_type": "code",
   "execution_count": 144,
   "metadata": {},
   "outputs": [],
   "source": [
    "driver.close()"
   ]
  },
  {
   "cell_type": "code",
   "execution_count": 125,
   "metadata": {
    "scrolled": false
   },
   "outputs": [
    {
     "data": {
      "text/plain": [
       "[]"
      ]
     },
     "execution_count": 125,
     "metadata": {},
     "output_type": "execute_result"
    }
   ],
   "source": [
    "# create function to read "
   ]
  }
 ],
 "metadata": {
  "kernelspec": {
   "display_name": "Python 3",
   "language": "python",
   "name": "python3"
  },
  "language_info": {
   "codemirror_mode": {
    "name": "ipython",
    "version": 3
   },
   "file_extension": ".py",
   "mimetype": "text/x-python",
   "name": "python",
   "nbconvert_exporter": "python",
   "pygments_lexer": "ipython3",
   "version": "3.7.2"
  }
 },
 "nbformat": 4,
 "nbformat_minor": 2
}
